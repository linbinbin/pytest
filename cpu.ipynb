{
 "cells": [
  {
   "cell_type": "code",
   "execution_count": 1,
   "metadata": {},
   "outputs": [
    {
     "data": {
      "text/plain": [
       "<Figure size 640x480 with 0 Axes>"
      ]
     },
     "metadata": {},
     "output_type": "display_data"
    },
    {
     "data": {
      "text/plain": [
       "<Figure size 640x480 with 1 Axes>"
      ]
     },
     "metadata": {},
     "output_type": "display_data"
    },
    {
     "data": {
      "text/plain": [
       "<Figure size 640x480 with 1 Axes>"
      ]
     },
     "metadata": {},
     "output_type": "display_data"
    },
    {
     "data": {
      "text/plain": [
       "<Figure size 640x480 with 1 Axes>"
      ]
     },
     "metadata": {},
     "output_type": "display_data"
    }
   ],
   "source": [
    "import psutil\n",
    "from pylab import *\n",
    "import pandas as pd\n",
    "import matplotlib.pyplot as plt\n",
    "from datetime import datetime\n",
    "cpu = []\n",
    "mem = []\n",
    "disk = []\n",
    "start = datetime.now().strftime(\"%Y/%m/%d %H:%M:%S\")\n",
    "try:\n",
    "    while True:\n",
    "        #cpu.append(psutil.cpu_percent(interval=0.5, percpu=True))\n",
    "        cpu.append(psutil.cpu_percent(interval=0.5, percpu=False))\n",
    "        memd = psutil.virtual_memory()\n",
    "        mem.append([memd.used, memd.free, memd.percent])\n",
    "        sdisk = psutil.disk_io_counters(perdisk=False)\n",
    "        disk.append([sdisk.read_time, sdisk.write_time])\n",
    "except KeyboardInterrupt:\n",
    "    end = datetime.now().strftime(\"%Y/%m/%d %H:%M:%S\")\n",
    "#print(cpu)\n",
    "#print(mem)\n",
    "#print(disk)\n",
    "    statics = pd.DataFrame({\"cpu\":cpu, \"mem\":mem, \"disk\":disk})\n",
    "#cpudf = pd.DataFrame(cpu, columns=[\"cpu1\", \"cpu2\", \"cpu3\", \"cpu4\"])\n",
    "    cpudf = pd.DataFrame(cpu, columns=[\"cpu\"])\n",
    "    memdf = pd.DataFrame(mem, columns=[\"used\", \"free\", \"per\"])\n",
    "    diskdf = pd.DataFrame(disk, columns=[\"read\", \"write\"])\n",
    "#cpudf[['cpu1']].plot()\n",
    "#df = f.cumsum()\n",
    "    plt.figure()\n",
    "    cpudf.plot()\n",
    "#plt.savefig(\"cpu.png\")\n",
    "    plt.show()\n",
    "    memdf[[\"used\",\"free\"]].plot()\n",
    "#plt.savefig(\"mem.png\")\n",
    "    plt.show()\n",
    "    diskdf.plot()\n",
    "#plt.savefig(\"disk.png\")\n",
    "    plt.show()"
   ]
  },
  {
   "cell_type": "code",
   "execution_count": 35,
   "metadata": {},
   "outputs": [
    {
     "name": "stdout",
     "output_type": "stream",
     "text": [
      "35.4\n",
      "[15.1, 38.2, 15.2, 45.4]\n",
      "30.2\n",
      "[12.5, 34.4, 21.5, 53.5]\n",
      "29.1\n",
      "[18.7, 37.2, 18.8, 34.1]\n",
      "44.9\n",
      "[68.8, 21.9, 18.8, 18.8]\n",
      "25.8\n",
      "[62.3, 19.1, 37.5, 68.6]\n",
      "47.1\n",
      "[65.6, 40.4, 40.4, 31.2]\n",
      "25.0\n",
      "[31.2, 5.9, 9.4, 59.8]\n",
      "29.1\n",
      "[57.4, 12.5, 15.5, 30.0]\n",
      "26.5\n",
      "[84.3, 12.5, 15.6, 8.7]\n",
      "25.9\n",
      "[56.2, 3.1, 3.1, 44.1]\n"
     ]
    }
   ],
   "source": [
    "import psutil\n",
    "import inspect\n",
    "smem = psutil.virtual_memory()\n",
    "sdisk = psutil.disk_io_counters(perdisk=False)\n",
    "for x in range(10):\n",
    "    print(psutil.cpu_percent(interval=0.5, percpu=False))\n",
    "    print(psutil.cpu_percent(interval=0.5, percpu=True))"
   ]
  },
  {
   "cell_type": "code",
   "execution_count": 3,
   "metadata": {},
   "outputs": [],
   "source": [
    "import tensorflow as tf\n"
   ]
  },
  {
   "cell_type": "code",
   "execution_count": null,
   "metadata": {},
   "outputs": [],
   "source": []
  }
 ],
 "metadata": {
  "kernelspec": {
   "display_name": "Python 3",
   "language": "python",
   "name": "python3"
  },
  "language_info": {
   "codemirror_mode": {
    "name": "ipython",
    "version": 3
   },
   "file_extension": ".py",
   "mimetype": "text/x-python",
   "name": "python",
   "nbconvert_exporter": "python",
   "pygments_lexer": "ipython3",
   "version": "3.6.8"
  }
 },
 "nbformat": 4,
 "nbformat_minor": 2
}
