{
 "cells": [
  {
   "cell_type": "code",
   "execution_count": null,
   "metadata": {
    "ExecuteTime": {
     "end_time": "2019-02-28T08:23:11.154421Z",
     "start_time": "2019-02-28T08:17:52.801786Z"
    }
   },
   "outputs": [],
   "source": [
    "import pandas as pd\n",
    "import glob\n",
    "path =r'.' # use your path\n",
    "allFiles = glob.glob(path + \"/*.csv\")\n",
    "alldf = pd.DataFrame()\n",
    "list_ = []\n",
    "for file_ in allFiles:\n",
    "    df = pd.read_csv(file_,sep=',', index_col=None, header=None, low_memory=False)\n",
    "    list_.append(df)\n",
    "alldf = pd.concat(list_)\n",
    "\n",
    "import pandas as pd\n",
    "import glob\n",
    "path =r'.' # use your path\n",
    "allFiles = glob.glob(path + \"/*.csv\")\n",
    "alldf = pd.DataFrame()\n",
    "list_ = []\n",
    "vins = ('ZE1-010675', 'ZE1-018030', 'ZE1-010828', 'ZE1-010889', 'ZE1-021609', 'ZE1-018145', 'ZE1-013405', 'ZE1-012919', 'ZE1-006609', 'ZE1-017926', 'ZE1-022805', 'ZE1-017932', 'ZE1-018193', 'ZE1-012016', 'ZE1-016471', 'ZE1-006476', 'ZE1-012765', 'ZE1-005882', 'ZE1-007640', 'ZE1-020321', 'ZE1-008336', 'ZE1-007199', 'ZE1-008200', 'ZE1-001190')\n",
    "for file_ in allFiles:\n",
    "    print(\"CSV file: {}\".format(file_))\n",
    "    df = pd.read_csv(file_, sep=',', index_col=None, header=None, error_bad_lines=False, low_memory=False)\n",
    "    gdf = df.groupby(9)\n",
    "    for grp in vins:\n",
    "        fname = './ret/{}_201808_201902.csv'.format(grp)\n",
    "        try:\n",
    "            gdf.get_group(grp).to_csv(fname, header=None, index=False, mode='a')\n",
    "        except:\n",
    "            pass\n",
    "    \n",
    "\n",
    "import pandas as pd\n",
    "vins = ('ZE1-010675', 'ZE1-018030', 'ZE1-010828', 'ZE1-010889', 'ZE1-021609', 'ZE1-018145', 'ZE1-013405', 'ZE1-012919', 'ZE1-006609', 'ZE1-017926', 'ZE1-022805', 'ZE1-017932', 'ZE1-018193', 'ZE1-012016', 'ZE1-016471', 'ZE1-006476', 'ZE1-012765', 'ZE1-005882', 'ZE1-007640', 'ZE1-020321', 'ZE1-008336', 'ZE1-007199', 'ZE1-008200', 'ZE1-001190')\n",
    "for file_name in vins:\n",
    "    print(\"CSV file: {}\".format(file_name))\n",
    "    df = pd.read_csv('./ret/{}_201808_201902.csv'.format(file_name), sep=',', index_col=None, header=None, low_memory=False, error_bad_lines=False)\n",
    "    dfs = df.sort_values([11, 12, 13, 14, 15])\n",
    "    dfs.to_csv('./ret/_{}_201808_201902.csv'.format(file_name), index=False, header=None)\n",
    "\n",
    "\n",
    "df.head()\n",
    "vins = ('ZE1-010675', 'ZE1-018030', 'ZE1-010828', 'ZE1-010889', 'ZE1-021609', 'ZE1-018145', 'ZE1-013405', 'ZE1-012919', 'ZE1-006609', 'ZE1-017926', 'ZE1-022805', 'ZE1-017932', 'ZE1-018193', 'ZE1-012016', 'ZE1-016471', 'ZE1-006476', 'ZE1-012765', 'ZE1-005882', 'ZE1-007640', 'ZE1-020321', 'ZE1-008336', 'ZE1-007199', 'ZE1-008200', 'ZE1-001190')\n",
    "gdf = df.groupby(9)\n",
    "for grp in vins:\n",
    "    fname = './ret/{}.csv'.format(grp)\n",
    "    gdf.get_group(grp).to_csv(fname, header=None, mode='a')"
   ]
  },
  {
   "cell_type": "code",
   "execution_count": null,
   "metadata": {},
   "outputs": [],
   "source": []
  }
 ],
 "metadata": {
  "kernelspec": {
   "display_name": "Python 3",
   "language": "python",
   "name": "python3"
  },
  "language_info": {
   "codemirror_mode": {
    "name": "ipython",
    "version": 3
   },
   "file_extension": ".py",
   "mimetype": "text/x-python",
   "name": "python",
   "nbconvert_exporter": "python",
   "pygments_lexer": "ipython3",
   "version": "3.7.1"
  },
  "toc": {
   "base_numbering": 1,
   "nav_menu": {},
   "number_sections": true,
   "sideBar": true,
   "skip_h1_title": false,
   "title_cell": "Table of Contents",
   "title_sidebar": "Contents",
   "toc_cell": false,
   "toc_position": {},
   "toc_section_display": true,
   "toc_window_display": false
  },
  "varInspector": {
   "cols": {
    "lenName": 16,
    "lenType": 16,
    "lenVar": 40
   },
   "kernels_config": {
    "python": {
     "delete_cmd_postfix": "",
     "delete_cmd_prefix": "del ",
     "library": "var_list.py",
     "varRefreshCmd": "print(var_dic_list())"
    },
    "r": {
     "delete_cmd_postfix": ") ",
     "delete_cmd_prefix": "rm(",
     "library": "var_list.r",
     "varRefreshCmd": "cat(var_dic_list()) "
    }
   },
   "types_to_exclude": [
    "module",
    "function",
    "builtin_function_or_method",
    "instance",
    "_Feature"
   ],
   "window_display": false
  }
 },
 "nbformat": 4,
 "nbformat_minor": 2
}
