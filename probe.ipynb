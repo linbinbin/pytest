{
 "cells": [
  {
   "cell_type": "code",
   "execution_count": 6,
   "metadata": {
    "scrolled": true
   },
   "outputs": [
    {
     "name": "stdout",
     "output_type": "stream",
     "text": [
      "1～20byte\n",
      " <class 'str'> get bit error.\n",
      "\n",
      "1～20byte <class 'str'> get bit error.\n",
      "\n",
      "Gen1: 128 437\n",
      "SMX: 132 697\n",
      "VNEXT: 203 1310\n"
     ]
    }
   ],
   "source": [
    "# -*- coding: utf-8 -*-\n",
    "import pandas as pd\n",
    "import math\n",
    "import numpy as np\n",
    "\n",
    "df_gen1 = pd.read_excel(\"probe.xls\", sheet_name=\"Gen1\", skiprows=3)\n",
    "df_sxm = pd.read_excel(\"probe.xls\", sheet_name=\"SXM向け\", skiprows=3)\n",
    "df_vnext = pd.read_excel(\"probe.xls\", sheet_name=\"vNext\", skiprows=1)\n",
    "\n",
    "#print(df_gen1.columns)\n",
    "#print(df_sxm.columns)\n",
    "#print(df_vnext.columns)\n",
    "\n",
    "df_gen1_flat = pd.read_excel(\"probe.xls\", sheet_name=\"flat_table_gen1\", skiprows=3).fillna({\"物理カラム名\":\"no_label\"})\n",
    "df_sxm_flat = pd.read_excel(\"probe.xls\", sheet_name=\"flat_table_sxm\", skiprows=3).fillna({\"物理カラム名\":\"no_label\"})\n",
    "df_vnext_flat = pd.read_excel(\"probe.xls\", sheet_name=\"flat_table_vnext\", skiprows=3).fillna({\"物理カラム名\":\"no_label\"})\n",
    "\n",
    "#print(df_gen1_flat.columns)\n",
    "#print(df_sxm_flat.columns)\n",
    "#print(df_vnext_flat.columns)\n",
    "\n",
    "#print(df)\n",
    "lab_val = \"0x\"\n",
    "lab_name = \"\"\n",
    "lab_size = \"\"\n",
    "df_gen1 = df_gen1.fillna({\"ラベル値\": 'no_lab_val', 'ラベル名': 'no_lab_name', 'tsv項目No.': 'no_no', 'サイズ':'no_size'})\n",
    "df_sxm = df_sxm.fillna({\"ラベル値\": 'no_lab_val', 'ラベル名': 'no_lab_name', 'tsv項目No.': 'no_no',  'サイズ':'no_size'})\n",
    "df_vnext = df_vnext.fillna({\"Label_Hex_4digits\": 'no_lab_val',  \"Name_2\": 'no_lab_name', \"Size_bytes\":'no_size', \"Description\":'no_des', 'Conversion':'no_size'})\n",
    "\n",
    "def get_size(in_bytes, size_byte, size_bit):\n",
    "    by = size_byte\n",
    "    bt = size_bit\n",
    "    try:\n",
    "        if in_bytes.find(\"byte\") != -1:\n",
    "            #print(\"find byte:{0}\".format(in_bytes[:-4]))\n",
    "            by += int(in_bytes[:-4])\n",
    "        else:\n",
    "            #print(\"find bit:{0}\\n\".format(in_bytes[:-3]))\n",
    "            bt += int(in_bytes[:-3])\n",
    "    except:\n",
    "        if type(in_bytes) == str:\n",
    "            print(\"{1} {0} get bit error.\\n\".format(type(in_bytes), in_bytes))\n",
    "        elif not math.isnan(in_bytes):\n",
    "            print(\"{1} {0} get bit error.\\n\".format(type(in_bytes), in_bytes))\n",
    "    return by, bt\n",
    "    \n",
    "new_row = None\n",
    "field_num = 0\n",
    "row_listg1 = []\n",
    "row_listx = []\n",
    "row_listvn = []\n",
    "size_byte = 0\n",
    "size_bit = 0\n",
    "for index, row in df_gen1.iterrows():\n",
    "    if row[\"ラベル値\"] != \"no_lab_val\":\n",
    "        if new_row is not None:\n",
    "            new_row[2] = size_byte + size_bit/8\n",
    "            row_listg1.append(new_row)\n",
    "            size_byte = 0\n",
    "            size_bit = 0\n",
    "            #print(new_row)\n",
    "        field_num = 1\n",
    "        size_byte, size_bit = get_size(row[\"Byte\"], size_byte, size_bit)\n",
    "        new_row = [row[\"ラベル値\"], row[\"ラベル名\"], size_byte, field_num, 1 if row[\"サイズ\"]==\"固定長\" else 0]\n",
    "        #print(index, row[\"ラベル値\"])\n",
    "    else:\n",
    "        size_byte, size_bit = get_size(row[\"Byte\"], size_byte, size_bit)\n",
    "        if row['tsv項目No.'] != 'no_no':\n",
    "            field_num += 1\n",
    "            new_row[3] = field_num\n",
    "        #print(index, row[\"ラベル値\"], row[\"Byte\"])\n",
    "row_listg1.append(new_row)\n",
    "new_row = None\n",
    "field_num = 0\n",
    "size_byte = 0\n",
    "size_bit = 0\n",
    "for index, row in df_sxm.iterrows():\n",
    "    if row[\"ラベル値\"] != \"no_lab_val\":\n",
    "        if new_row is not None:\n",
    "            new_row[2] = size_byte + size_bit/8\n",
    "            row_listx.append(new_row)\n",
    "            size_byte = 0\n",
    "            size_bit = 0\n",
    "            #print(new_row)\n",
    "        field_num = 1\n",
    "        size_byte, size_bit = get_size(row[\"Byte\"], size_byte, size_bit)\n",
    "        new_row = [row[\"ラベル値\"], row[\"ラベル名\"], size_byte, field_num, 1 if row[\"サイズ\"]==\"固定長\" else 0]\n",
    "        #print(index, row[\"ラベル値\"])\n",
    "    else:\n",
    "        size_byte, size_bit = get_size(row[\"Byte\"], size_byte, size_bit)\n",
    "        if row['tsv項目No.'] != 'no_no':\n",
    "            field_num += 1\n",
    "            new_row[3] = field_num\n",
    "        #print(index, row[\"ラベル値\"], row[\"Byte\"])\n",
    "row_listx.append(new_row)\n",
    "\n",
    "new_row = None\n",
    "label_hex = \"\"\n",
    "field_desc = \"\"\n",
    "label_size = 0\n",
    "for index, row in df_vnext.iterrows():\n",
    "    if row[\"Label_Hex_4digits\"] != \"no_lab_val\" and row[\"Label_Hex_4digits\"] != label_hex and row[\"Label_Hex_4digits\"] != \"00h\":\n",
    "        if new_row is not None:\n",
    "            row_listvn.append(new_row)\n",
    "            #print(new_row)\n",
    "            field_num = 1\n",
    "        field_desc = row[\"Description\"]\n",
    "        label_size = int(row[\"Size_bytes\"])\n",
    "        label_hex = row[\"Label_Hex_4digits\"]\n",
    "        new_row = [row[\"Label_Hex_4digits\"][:-1], row[\"Description\"], label_size, field_num, 1, field_desc]\n",
    "        #print(new_row) if (row['Conversion pattern#'] in [31, 32, 33]) else print(\"pass\")\n",
    "    else:\n",
    "        if row['Name_2'] != 'Label':\n",
    "            if row[\"Label_Hex_4digits\"] != \"00h\":\n",
    "                field_num += 1\n",
    "            if row[\"Size_bytes\"] != \"no_size\":\n",
    "                label_size += int(row[\"Size_bytes\"])\n",
    "            des = \"\"\n",
    "            if row[\"Description\"] != \"no_des\":\n",
    "                des = row[\"Description\"]\n",
    "            field_desc += \"{0}: {1}¥n\".format(row[\"Name_2\"], des)\n",
    "            new_row[2] = label_size\n",
    "            new_row[3] = field_num\n",
    "            new_row[5] = field_desc\n",
    "            if new_row[4] != 0:\n",
    "                new_row[4] = 0 if (row['Conversion'] in [31, 32, 33]) else 1\n",
    "                #print(row['Conversion']) if (row['Conversion'] in [31, 32, 33]) else print(\"pass\")\n",
    "        #print(index, row[\"ラベル値\"], row[\"Byte\"])\n",
    "row_listvn.append(new_row)\n",
    "#print(row_listg1)\n",
    "#print(row_listx)\n",
    "#print(row_listvn[:][0])\n",
    "count = 0\n",
    "field_count = 0\n",
    "for (index, g1) in enumerate(row_listg1):\n",
    "    if g1[1] != '未使用':\n",
    "        count += 1\n",
    "        field_count += g1[3]\n",
    "print(\"Gen1: {0} {1}\".format(count, field_count))\n",
    "count = 0\n",
    "field_count = 0\n",
    "for (index, x1) in enumerate(row_listx):\n",
    "    if x1[1] != '未使用':\n",
    "        count += 1\n",
    "        field_count += x1[3]\n",
    "print(\"SMX: {0} {1}\".format(count, field_count))\n",
    "\n",
    "field_count = 0\n",
    "for (index, vn) in enumerate(row_listvn):\n",
    "    if vn[1] != 'no_lab_name':\n",
    "        count += 1\n",
    "        field_count += vn[3]\n",
    "        #print(vn)\n",
    "print(\"VNEXT: {0} {1}\".format(count, field_count))\n",
    "\n",
    "# \"\"\"\n",
    "# for g1 in row_listg1:\n",
    "#     for x in row_listx:\n",
    "#         if g1[1] == x[1] and g1[1] != '未使用':\n",
    "#             print(g1)\n",
    "#             print(x)\n",
    "# \"\"\"\n"
   ]
  },
  {
   "cell_type": "code",
   "execution_count": 55,
   "metadata": {},
   "outputs": [
    {
     "name": "stdout",
     "output_type": "stream",
     "text": [
      "except 0001h:[0, 0, 0]\n"
     ]
    }
   ],
   "source": [
    "# -*- coding: utf-8 -*-\n",
    "get_size = lambda fields: (fields[0], fields[2]) if fields[2] == 1 else (fields[0]-1, fields[2])\n",
    "def label_flat(df_flat, label_list, type_name):\n",
    "    #type_name = bin_file.split(\"_\")[0]\n",
    "    with open(\"%s_labels.txt\"%type_name, 'w') as flat_f:\n",
    "        with open(\"%s_bin\"%type_name, 'w') as bin_f:\n",
    "            with open(\"%s_dict.txt\"%type_name, 'w') as dict_f:\n",
    "                pre_label = \"\"\n",
    "                label_size_flg=[0, 0, 0]\n",
    "                ret_list = []\n",
    "                bin_f.write(\"def mk_{0}data({0}_bin_file):\\n\".format(type_name))\n",
    "                dict_f.write(\"    %s_dict = {\\n\"%type_name)\n",
    "                for index, row in df_flat.iterrows():\n",
    "                    if row[\"物理カラム名\"]  == \"no_label\":\n",
    "                        label = pre_label\n",
    "                        #print(label)\n",
    "                        continue\n",
    "                    if len(row[\"物理カラム名\"] .split('_')) > 2:\n",
    "                        (label, field) = row[\"物理カラム名\"] .split('_')[1:]\n",
    "                    else:\n",
    "                        label = row[\"物理カラム名\"] .split('_')[1]\n",
    "                    if label == \"HEADER\":\n",
    "                        pre_label = label\n",
    "                        flat_f.write('{0}_{1}\\n'.format(label, field))\n",
    "                    elif pre_label != label:\n",
    "                        pre_label = label\n",
    "                        try:\n",
    "                            if len(label) == 5:\n",
    "                                label_size_flg=list(filter(lambda x:x[0]==label[:-1], label_list))[0][2:5]\n",
    "                            else:\n",
    "                                label_size_flg=list(filter(lambda x:x[0]==label, label_list))[0][2:5]\n",
    "                            #print(\"{0}:{1}\".format(label, label_size))\n",
    "                        except:\n",
    "                            label_size_flg=[0,0,0]\n",
    "                            print(\"except {0}:{1}\".format(label, label_size_flg))\n",
    "                        if pre_label[-1] == 'h':\n",
    "                            wr_label = '0x' + pre_label[:-1]\n",
    "                            flat_f.write('{0} {1} {2}\\n'.format(wr_label, label_size_flg[0], label_size_flg[2]))\n",
    "                            bin_f.write(\"    {0}_{1} = '>H{2}s' #{3}\\n\".format(type_name, wr_label, int(label_size_flg[0]), \"valuable\" if label_size_flg[2] == 0 else \"fix\"))\n",
    "                            bin_f.write(\"    {0}_bin_file.write(struct.pack({0}_{1}, {1}, bytes.fromhex('')))\\n\".format(type_name, wr_label))\n",
    "                            dict_f.write('        \"{0}\":[\">{1}s\", {2}],\\n'.format(wr_label, label_size_flg[0] if label_size_flg[2] ==1 else  label_size_flg[0]-1, label_size_flg[2] ))\n",
    "                            ret_list.append([wr_label, label_size_flg[0], label_size_flg[2]])\n",
    "                        else:\n",
    "                            flat_f.write('{0} {1} {2}\\n'.format(pre_label, label_size_flg[0], label_size_flg[2]))\n",
    "                            bin_f.write(\"    {0}_{1} = '>H{2}s' #{3}\\n\".format(type_name, pre_label, int(label_size_flg[0]), \"valuable\" if label_size_flg[2] == 0 else \"fix\"))\n",
    "                            bin_f.write(\"    {0}_bin_file.write(struct.pack({0}_{1}, {1}, bytes.fromhex('')))\\n\".format(type_name, pre_label))\n",
    "                            dict_f.write('        \"{0}\":[\">{1}s\", {2}],\\n'.format(pre_label, label_size_flg[0] if label_size_flg[2] ==1 else  label_size_flg[0]-1, label_size_flg[2] ))\n",
    "                            ret_list.append([pre_label, label_size_flg[0], label_size_flg[2]])\n",
    "                dict_f.write('        }\\n')\n",
    "        return ret_list\n",
    "    \n",
    "ret = label_flat(df_gen1_flat, row_listg1, \"gen1\")\n",
    "ret = label_flat(df_sxm_flat,  row_listx, \"sxm\")\n",
    "ret = label_flat(df_vnext_flat,  row_listvn, \"vnext\")"
   ]
  },
  {
   "cell_type": "code",
   "execution_count": 11,
   "metadata": {},
   "outputs": [
    {
     "name": "stdout",
     "output_type": "stream",
     "text": [
      "1\n",
      "-1\n"
     ]
    }
   ],
   "source": [
    "f = lambda x,  y: x if y == 0 else x-1\n",
    "print(f(1, 0))\n",
    "print(f(0, 1))"
   ]
  },
  {
   "cell_type": "code",
   "execution_count": 69,
   "metadata": {},
   "outputs": [
    {
     "name": "stdout",
     "output_type": "stream",
     "text": [
      "1\n"
     ]
    },
    {
     "data": {
      "text/plain": [
       "3"
      ]
     },
     "execution_count": 69,
     "metadata": {},
     "output_type": "execute_result"
    }
   ],
   "source": [
    "print(0x01.bit_length())\n",
    "get_bits = lambda value: get_bits(value>>1) +  (0x01&(value))  if  value.bit_length() > 0 else 0\n",
    "get_bits(0x15)"
   ]
  },
  {
   "cell_type": "code",
   "execution_count": 48,
   "metadata": {},
   "outputs": [
    {
     "data": {
      "text/plain": [
       "3"
      ]
     },
     "execution_count": 48,
     "metadata": {},
     "output_type": "execute_result"
    }
   ],
   "source": [
    "get_bits = lambda bits, value:  get_bits(bits -1, value) +  (0x01&(value >> bits-1))  if bits > 0 else 0\n",
    "get_bits(8, 0x70)"
   ]
  },
  {
   "cell_type": "code",
   "execution_count": 71,
   "metadata": {},
   "outputs": [
    {
     "ename": "SyntaxError",
     "evalue": "invalid syntax (<ipython-input-71-18c94cfb7556>, line 1)",
     "output_type": "error",
     "traceback": [
      "\u001b[0;36m  File \u001b[0;32m\"<ipython-input-71-18c94cfb7556>\"\u001b[0;36m, line \u001b[0;32m1\u001b[0m\n\u001b[0;31m    get_bits = lambda x, y: x + (0x01 & (y >> i)) for i in rang(y.bit_length() )\u001b[0m\n\u001b[0m                                                    ^\u001b[0m\n\u001b[0;31mSyntaxError\u001b[0m\u001b[0;31m:\u001b[0m invalid syntax\n"
     ]
    }
   ],
   "source": [
    "get_bits = lambda x, y: x + (0x01 & (y >> i)) for i in rang(y.bit_length() )\n",
    "get_bits(0, 0x1)"
   ]
  },
  {
   "cell_type": "code",
   "execution_count": 82,
   "metadata": {},
   "outputs": [
    {
     "name": "stdout",
     "output_type": "stream",
     "text": [
      "[1]\n"
     ]
    },
    {
     "data": {
      "text/plain": [
       "2"
      ]
     },
     "execution_count": 82,
     "metadata": {},
     "output_type": "execute_result"
    }
   ],
   "source": [
    "from functools import reduce\n",
    "print([0x01>>i for i in range(0x01.bit_length())])\n",
    "get_bits = lambda bit: reduce(lambda x,y:x+y, [0x1&bit>>i for i in range(bit.bit_length())])\n",
    "get_bits(0x18)"
   ]
  },
  {
   "cell_type": "code",
   "execution_count": null,
   "metadata": {},
   "outputs": [],
   "source": []
  }
 ],
 "metadata": {
  "kernelspec": {
   "display_name": "Python 3",
   "language": "python",
   "name": "python3"
  },
  "language_info": {
   "codemirror_mode": {
    "name": "ipython",
    "version": 3
   },
   "file_extension": ".py",
   "mimetype": "text/x-python",
   "name": "python",
   "nbconvert_exporter": "python",
   "pygments_lexer": "ipython3",
   "version": "3.6.5"
  }
 },
 "nbformat": 4,
 "nbformat_minor": 2
}
